{
 "cells": [
  {
   "cell_type": "markdown",
   "id": "cc6b7b9f-a75d-4b78-930f-26d2343ac2c2",
   "metadata": {},
   "source": [
    "# Enable Logging"
   ]
  },
  {
   "cell_type": "markdown",
   "id": "06fc5839-0b4b-42a3-9aaf-99a97e347955",
   "metadata": {},
   "source": [
    "### Import all needed packages"
   ]
  },
  {
   "cell_type": "code",
   "execution_count": 1,
   "id": "63cf31e4",
   "metadata": {
    "height": 98
   },
   "outputs": [],
   "source": [
    "import boto3\n",
    "import json\n",
    "import os\n",
    "\n",
    "bedrock = boto3.client('bedrock', region_name=\"us-west-2\")"
   ]
  },
  {
   "cell_type": "code",
   "execution_count": 2,
   "id": "e5d9e31b",
   "metadata": {
    "height": 48
   },
   "outputs": [],
   "source": [
    "from helpers.CloudWatchHelper import CloudWatch_Helper\n",
    "cloudwatch = CloudWatch_Helper()"
   ]
  },
  {
   "cell_type": "code",
   "execution_count": 3,
   "id": "87a30e7e",
   "metadata": {
    "height": 31
   },
   "outputs": [],
   "source": [
    "log_group_name = '/my/amazon/bedrock/logs'"
   ]
  },
  {
   "cell_type": "code",
   "execution_count": 4,
   "id": "2461a51c",
   "metadata": {
    "height": 31
   },
   "outputs": [
    {
     "name": "stdout",
     "output_type": "stream",
     "text": [
      "Log group '/my/amazon/bedrock/logs' created successfully.\n"
     ]
    }
   ],
   "source": [
    "cloudwatch.create_log_group(log_group_name)"
   ]
  },
  {
   "cell_type": "code",
   "execution_count": 5,
   "id": "0afe5997",
   "metadata": {
    "height": 269
   },
   "outputs": [],
   "source": [
    "loggingConfig = {\n",
    "    'cloudWatchConfig': {\n",
    "        'logGroupName': log_group_name,\n",
    "        'roleArn': os.environ['LOGGINGROLEARN'],\n",
    "        'largeDataDeliveryS3Config': {\n",
    "            'bucketName': os.environ['LOGGINGBUCKETNAME'],\n",
    "            'keyPrefix': 'amazon_bedrock_large_data_delivery',\n",
    "        }\n",
    "    },\n",
    "    's3Config': {\n",
    "        'bucketName': os.environ['LOGGINGBUCKETNAME'],\n",
    "        'keyPrefix': 'amazon_bedrock_logs',\n",
    "    },\n",
    "    'textDataDeliveryEnabled': True,\n",
    "}"
   ]
  },
  {
   "cell_type": "code",
   "execution_count": 6,
   "id": "2ca33ffe",
   "metadata": {
    "height": 47
   },
   "outputs": [
    {
     "data": {
      "text/plain": [
       "{'ResponseMetadata': {'RequestId': '0d575463-fb54-4d43-b52b-09fb69dec99b',\n",
       "  'HTTPStatusCode': 200,\n",
       "  'HTTPHeaders': {'date': 'Mon, 13 Jan 2025 13:38:48 GMT',\n",
       "   'content-type': 'application/json',\n",
       "   'content-length': '2',\n",
       "   'connection': 'keep-alive',\n",
       "   'x-amzn-requestid': '0d575463-fb54-4d43-b52b-09fb69dec99b'},\n",
       "  'RetryAttempts': 0}}"
      ]
     },
     "execution_count": 6,
     "metadata": {},
     "output_type": "execute_result"
    }
   ],
   "source": [
    "bedrock.put_model_invocation_logging_configuration(loggingConfig=loggingConfig)"
   ]
  },
  {
   "cell_type": "code",
   "execution_count": 7,
   "id": "41fdb20d",
   "metadata": {
    "height": 31
   },
   "outputs": [
    {
     "data": {
      "text/plain": [
       "{'ResponseMetadata': {'RequestId': '2123cddd-a0b6-4eaa-b8e8-9c7d762b128e',\n",
       "  'HTTPStatusCode': 200,\n",
       "  'HTTPHeaders': {'date': 'Mon, 13 Jan 2025 13:38:48 GMT',\n",
       "   'content-type': 'application/json',\n",
       "   'content-length': '604',\n",
       "   'connection': 'keep-alive',\n",
       "   'x-amzn-requestid': '2123cddd-a0b6-4eaa-b8e8-9c7d762b128e'},\n",
       "  'RetryAttempts': 0},\n",
       " 'loggingConfig': {'cloudWatchConfig': {'logGroupName': '/my/amazon/bedrock/logs',\n",
       "   'roleArn': 'arn:aws:iam::454642298095:role/c99355a2566044l8943182t1w45464229809-LoggingIAMRole-wXUJEd1p7fHl',\n",
       "   'largeDataDeliveryS3Config': {'bucketName': 'c99355a2566044l8943182t1w454642298-loggings3bucket-nartzmuc6ka2',\n",
       "    'keyPrefix': 'amazon_bedrock_large_data_delivery'}},\n",
       "  's3Config': {'bucketName': 'c99355a2566044l8943182t1w454642298-loggings3bucket-nartzmuc6ka2',\n",
       "   'keyPrefix': 'amazon_bedrock_logs'},\n",
       "  'textDataDeliveryEnabled': True,\n",
       "  'imageDataDeliveryEnabled': True,\n",
       "  'embeddingDataDeliveryEnabled': True}}"
      ]
     },
     "execution_count": 7,
     "metadata": {},
     "output_type": "execute_result"
    }
   ],
   "source": [
    "bedrock.get_model_invocation_logging_configuration()"
   ]
  },
  {
   "cell_type": "code",
   "execution_count": 8,
   "id": "95ebecb7",
   "metadata": {
    "height": 47
   },
   "outputs": [],
   "source": [
    "bedrock_runtime = boto3.client('bedrock-runtime', region_name=\"us-west-2\")"
   ]
  },
  {
   "cell_type": "code",
   "execution_count": 9,
   "id": "402c6311",
   "metadata": {
    "height": 422
   },
   "outputs": [
    {
     "name": "stdout",
     "output_type": "stream",
     "text": [
      "\n",
      "Foobar is a fictional planet that appears in the science fiction book series \"The Hitchhiker's Guide to the Galaxy\" by Douglas Adams. It is a small, round planet that orbits the sun in the same orbit as Earth, but is much closer to the sun. Foobar is a desolate planet with a surface temperature of over 400 degrees Celsius, and is inhabited by a race of creatures known as the Vogons, who are responsible for the construction of the massive intergalactic bypass that passes through the planet's orbit.\n",
      "\n",
      "The Vogons are a race of bureaucrats who are obsessed with efficiency and order. They are responsible for the construction of the massive intergalactic bypass that passes through the planet's orbit, and are known for their strict adherence to regulations and rules. The Vogons are also responsible for the destruction of Earth, which they did in order to make way for the bypass.\n",
      "\n",
      "Despite their harsh and rigid nature, the Vogons are also known for their sense of humor. They are often seen making jokes and puns, and have a strange sense of humor that is not always understood by humans. They also have a unique language, which is known as Vogonese, which is a mixture of English, Latin, and German.\n",
      "\n",
      "Foobar is a popular destination for space travelers, as it is a convenient stopover point between Earth and other planets in the galaxy. The planet is also home to a variety of exotic creatures, including the Golgafrinchans, who are a race of intelligent creatures who are known for their love of music and their ability to communicate telepathically.\n",
      "\n",
      "However, Foobar is also a dangerous planet. The surface temperature is extremely high, and the atmosphere is toxic, with high levels of carbon dioxide and nitrogen. The planet is also home to a variety of dangerous creatures, including the Sontarans, who are a race of reptilian creatures who are known for their aggressive behavior and their ability to travel through space.\n",
      "\n",
      "Despite its dangers, Foobar has been visited by a number of space travelers, including Arthur Dent, who was stranded on the planet after the destruction of Earth. Arthur Dent is a human who is known for his pessimistic outlook on life, and his love of music. He is also known for his ability to travel through space, and has been to a number of other planets in the galaxy.\n",
      "\n",
      "In the science fiction book series \"The Hitchhiker's Guide to the Galaxy,\" Foobar is used as a\n"
     ]
    }
   ],
   "source": [
    "prompt = \"Write an article about the fictional planet Foobar.\"\n",
    "\n",
    "kwargs = {\n",
    "    \"modelId\": \"amazon.titan-text-express-v1\",\n",
    "    \"contentType\": \"application/json\",\n",
    "    \"accept\": \"*/*\",\n",
    "    \"body\": json.dumps(\n",
    "        {\n",
    "            \"inputText\": prompt,\n",
    "            \"textGenerationConfig\": {\n",
    "                \"maxTokenCount\": 512,\n",
    "                \"temperature\": 0.7,\n",
    "                \"topP\": 0.9\n",
    "            }\n",
    "        }\n",
    "    )\n",
    "}\n",
    "\n",
    "response = bedrock_runtime.invoke_model(**kwargs)\n",
    "response_body = json.loads(response.get('body').read())\n",
    "\n",
    "generation = response_body['results'][0]['outputText']\n",
    "\n",
    "print(generation)"
   ]
  },
  {
   "cell_type": "code",
   "execution_count": 10,
   "id": "68a7bab7",
   "metadata": {
    "height": 31
   },
   "outputs": [
    {
     "name": "stdout",
     "output_type": "stream",
     "text": [
      "Permissions are correctly set for Amazon Bedrock logs.\n",
      "-------------------------\n",
      "\n"
     ]
    }
   ],
   "source": [
    "cloudwatch.print_recent_logs(log_group_name)"
   ]
  },
  {
   "cell_type": "code",
   "execution_count": 11,
   "id": "2cf443d2",
   "metadata": {
    "height": 48
   },
   "outputs": [],
   "source": [
    "from IPython.display import HTML\n",
    "aws_url = os.environ['AWS_CONSOLE_URL']"
   ]
  },
  {
   "cell_type": "code",
   "execution_count": 12,
   "id": "0b7c904c",
   "metadata": {
    "height": 64
   },
   "outputs": [
    {
     "data": {
      "text/html": [
       "<a href=\"https://signin.aws.amazon.com/federation?Action=login&SigninToken=KMDQ4jBXIXdiLpRuMVqkHq4N9huv9LJoBCN8gLD8v7421cHLx-qzx4dpqGu_x6vL5WY_gTp1oKcjCwziPmF_wvI0c1LnFB5DR_WG3v0hz0C0yYtL52AQbmltwvw-5_CbTS_JBSMTagb-CKksZgXpaEjUwEGDGHPSZnn1cFo8yl3LU6Y19YrC6xugCg_7xp8tBznRMR_sWE5D3GyFq-qOa3hs4-MnIsEhs3cIXYu8xkuVEGxuOTJHo6FZ133qL9Y4cH6GfOixzsaAPpEhYWDNDkVImm1oD6xwc4PyQvffV7tR7655iO9pSgCxKPV6oKTSn_EK1LkSBU_GuR5AdGHfT4B-H68YygDLbMoDxiAz-m28Zn6mLK3Ci0x1Kec0q-5egCxWbcp3-q8Gb4YEB_JHA0l-qaMArNSbmalID8dxEY0fEt53gaE3i-pMnM4cse52nk53zInIDV5ei-KtvcwYBnMteNVQY8EReO15dWSaEakLw60PZvQhvPodey8L_8mDYrKxt8DlpizLRotz0OWnYN3pH282mxyXmzE2QZ77qRLxP6tCMtXWPpMEpDN-gSrC8GdKrk-5lQP1sk6XDeAluLZEuzVLapDlFtU8CKTBWSeKTbRMvKz51G0Cqv_fusQFdjY3J4yN7dNkSp7IEJi1mH0YrWTYe7r96jc07_IRb2jl2AIKc-Z5ZrHYSbMbRaweNxIarVpHPQ3H_2sHaqFWfMm-p9exF8vA42vrbIkpDiAIW6SiJMvgNnOlLK3Xmni44cJJ59ohVS9oqvjPbyANAnhuyTHhZBwfukWNmVNXmrjdBcftGFadEMGWxquT_Sp6R3zcIlZYe3XwvhsyxStbPntM_GbdUlcIse3k-rzfZDhR3FxgCgtDUCsOvYUDmBdfEIhDZ9heC_2sgz9jeGcIVn6ltu2xBUwSQzVjGeD-BAncBU6jJIAV-r0SMU2Z_MStmHkT5efcDbYzDcvRRcSKmTS-5pj1XByB9vyvuTphivOswg3iNhklJxx8_42qMRxo5vdJus1heNmBrHBSGCDnREfLeKYttfUKJrAb8SbN-MOBSrxN1Glm3_HsktyZF369Rwwrv3b0e7gY6CpJqwi3LNAyKnVEaUwHUZsbJkF9Gn3AdW6imdBZ-wRktwnSDNRn2rhyyXxoLSGQ79J5_vIUQ4zNvk0uV87hLxFLyP0EOxV654_mQH7Mm94YG9A7xq8mNAunswdRx7dTwSF5nkkqkN4MmNRrznnMlKlMwcOEOQAq5cEebO3g-wn7jq266D7gntef80IAf_LPMOU8NdohoQPScfXj4vPk88I8dJ05PBFXANlQx-zdRJv5oW2fl__zXjVMu0QzTyHf2ab9-vdFwkMGaaosZQizx812SS8yrMHeySRfyyPt2d2rg50DeLw9ntESZVuCp2R_MOx9vgafC3C4JxPW5H1tRMfaH38mnLcr2I2wLTh1dCBs7XKy1KhOSsBhlwuE2IONjRHr_TqbJdsREvzLqJ4HDtmQ-WJ99huEeCxV12xtFqGidXm49umuow1tsyOo5iD7FA&Issuer=https%3A%2F%2Fapi.vocareum.com&Destination=https%3A%2F%2Fconsole.aws.amazon.com%2Fconsole%2Fhome%3Fregion%3Dus-west-2\" target=\"_blank\">GO TO AWS CONSOLE</a>"
      ],
      "text/plain": [
       "<IPython.core.display.HTML object>"
      ]
     },
     "execution_count": 12,
     "metadata": {},
     "output_type": "execute_result"
    }
   ],
   "source": [
    "HTML(f'<a href=\"{aws_url}\" target=\"_blank\">GO TO AWS CONSOLE</a>')\n"
   ]
  }
 ],
 "metadata": {
  "kernelspec": {
   "display_name": "Python 3 (ipykernel)",
   "language": "python",
   "name": "python3"
  },
  "language_info": {
   "codemirror_mode": {
    "name": "ipython",
    "version": 3
   },
   "file_extension": ".py",
   "mimetype": "text/x-python",
   "name": "python",
   "nbconvert_exporter": "python",
   "pygments_lexer": "ipython3",
   "version": "3.11.9"
  }
 },
 "nbformat": 4,
 "nbformat_minor": 5
}
